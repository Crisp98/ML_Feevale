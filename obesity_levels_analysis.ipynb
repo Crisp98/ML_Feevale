{
 "cells": [
  {
   "cell_type": "code",
   "execution_count": null,
   "metadata": {},
   "outputs": [],
   "source": [
    "import pandas as pd\n",
    "\n",
    "# Carregar o dataset\n",
    "df = pd.read_csv('ObesityDataSet_raw_and_data_sinthetic.csv')\n",
    "\n",
    "# Visualizar as primeiras linhas do dataset para verificar se o arquivo foi importado corretamente.\n",
    "print(df.head())\n"
   ]
  },
  {
   "cell_type": "code",
   "execution_count": null,
   "metadata": {},
   "outputs": [],
   "source": [
    "#Informações básicas sobre o dataset\n",
    "print(df.info())\n",
    "\n",
    "# Estatísticas descritivas\n",
    "print(df.describe())\n",
    "\n",
    "# Verificar quantos valores por categoria nulos\n",
    "print(df.isnull().sum())\n",
    "\n",
    "# Contar valores únicos em cada coluna para entender a cardinalidade\n",
    "print(df.nunique())\n",
    "\n",
    "print(df.dtypes)\n"
   ]
  },
  {
   "cell_type": "code",
   "execution_count": null,
   "metadata": {},
   "outputs": [],
   "source": [
    "from sklearn.preprocessing import LabelEncoder\n",
    "\n",
    "# Label Encoding para variáveis binárias\n",
    "binary_cols = ['Gender', 'family_history_with_overweight', 'FAVC', 'SMOKE', 'SCC']\n",
    "label_encoder = LabelEncoder()\n",
    "for col in binary_cols:\n",
    "    df[col] = label_encoder.fit_transform(df[col])\n",
    "\n",
    "# One-Hot Encoding para variáveis categóricas com mais de dois valores\n",
    "one_hot_cols = ['CAEC', 'CALC', 'MTRANS', 'NObeyesdad']\n",
    "df = pd.get_dummies(df, columns=one_hot_cols)\n"
   ]
  },
  {
   "cell_type": "markdown",
   "metadata": {},
   "source": [
    "Variáveis Potencialmente Sensíveis a Outliers\n",
    "Age (Idade):\n",
    "\n",
    "Tipo: Contínua.\n",
    "Relevância: A idade pode influenciar o metabolismo e mudanças no estilo de vida que afetam o peso. Outliers podem ser indivíduos muito jovens ou muito idosos comparados com a população típica estudada.\n",
    "Height (Altura):\n",
    "\n",
    "Tipo: Contínua.\n",
    "Relevância: Alturas extremamente baixas ou altas podem afetar a análise, especialmente se forem resultado de erros de entrada de dados ou populações específicas com características únicas.\n",
    "Weight (Peso):\n",
    "\n",
    "Tipo: Contínua.\n",
    "Relevância: Peso é diretamente relacionado à obesidade. Outliers aqui podem distorcer a relação entre peso e outras variáveis, como altura (índice de massa corporal).\n",
    "FCVC (Frequência de consumo de vegetais):\n",
    "\n",
    "Tipo: Inteiro.\n",
    "Relevância: Consumo muito irregular de vegetais pode ser um outlier se a maioria da população segue um padrão mais consistente.\n",
    "NCP (Número de refeições principais):\n",
    "\n",
    "Tipo: Contínua.\n",
    "Relevância: Valores extremamente baixos ou altos podem indicar hábitos alimentares incomuns que são críticos para entender padrões de obesidade.\n",
    "CH2O (Consumo diário de água):\n",
    "\n",
    "Tipo: Contínua.\n",
    "Relevância: A hidratação pode influenciar o metabolismo e a saúde geral. Outliers podem ser valores irrealisticamente baixos ou altos de consumo de água.\n",
    "FAF (Frequência de atividade física):\n",
    "\n",
    "Tipo: Contínua.\n",
    "Relevância: Níveis extremos de atividade física podem ser outliers, especialmente em contextos onde a maioria dos indivíduos segue um padrão mais moderado.\n",
    "TUE (Uso de dispositivos tecnológicos):\n",
    "\n",
    "Tipo: Inteiro.\n",
    "Relevância: Extremos nessa variável podem indicar comportamentos sedentários ou ativos que são incomuns."
   ]
  },
  {
   "cell_type": "code",
   "execution_count": null,
   "metadata": {},
   "outputs": [],
   "source": [
    "\n",
    "\n",
    "# Visualizar boxplots para variáveis selecionadas\n",
    "relevant_cols = ['Age', 'Height', 'Weight', 'FCVC', 'NCP', 'CH2O', 'FAF', 'TUE']\n",
    "for col in relevant_cols:\n",
    "    plt.figure(figsize=(10, 6))\n",
    "    sns.boxplot(x=df[col])\n",
    "    plt.title(f'Boxplot of {col}')\n",
    "    plt.show()"
   ]
  },
  {
   "cell_type": "markdown",
   "metadata": {},
   "source": [
    "Age (Idade):\n",
    "\n",
    "A distribuição parece razoavelmente normal, com poucos outliers. A maioria das idades está concentrada em uma faixa específica, com algumas poucas observações mais extremas.\n",
    "Height (Altura):\n",
    "\n",
    "Há uma concentração de valores na faixa média com alguns outliers visíveis nas extremidades inferiores e superiores. Isso sugere que há algumas alturas muito baixas e muito altas que são atípicas em relação à população geral.\n",
    "Weight (Peso):\n",
    "\n",
    "Similar à altura, o peso mostra uma distribuição centrada com outliers em ambas extremidades. Os outliers em peso podem ter implicações significativas em estudos sobre obesidade, pois podem representar casos extremos de baixo peso ou sobrepeso.\n",
    "FCVC (Frequência de consumo de vegetais):\n",
    "\n",
    "Este gráfico indica uma distribuição bastante uniforme com alguns outliers. Pode haver pessoas que raramente ou nunca consomem vegetais, ou o contrário, consomem muito frequentemente.\n",
    "NCP (Número de refeições principais por dia):\n",
    "\n",
    "A maioria das pessoas parece seguir um padrão regular de refeições diárias, mas há outliers que sugerem um número muito menor ou maior de refeições principais, o que pode afetar a análise de hábitos alimentares e obesidade.\n",
    "CH2O (Consumo de água diário):\n",
    "\n",
    "A quantidade de água consumida diariamente também mostra alguns valores extremos, com a maioria das observações agrupadas em torno de uma média. Esses extremos podem indicar erro de medição ou comportamentos de hidratação muito atípicos.\n",
    "FAF (Frequência de atividade física):\n",
    "\n",
    "A atividade física varia significativamente, com alguns indivíduos relatando níveis extremamente baixos ou altos de atividade. Outliers aqui podem influenciar análises relacionadas à atividade física e seu impacto na obesidade.\n",
    "TUE (Tempo de uso de tecnologia):\n",
    "\n",
    "Existem alguns valores extremos indicando um uso muito alto ou muito baixo de tecnologia. Isso é relevante para entender comportamentos sedentários que podem estar associados à obesidade."
   ]
  },
  {
   "cell_type": "code",
   "execution_count": null,
   "metadata": {},
   "outputs": [],
   "source": [
    "for col in ['Weight', 'Height', 'CH2O', 'FAF']:\n",
    "    Q1 = df[col].quantile(0.25)\n",
    "    Q3 = df[col].quantile(0.75)\n",
    "    IQR = Q3 - Q1\n",
    "    df = df[(df[col] >= (Q1 - 1.5 * IQR)) & (df[col] <= (Q3 + 1.5 * IQR))]\n"
   ]
  },
  {
   "cell_type": "code",
   "execution_count": null,
   "metadata": {},
   "outputs": [],
   "source": [
    "relevant_cols = ['Weight', 'Height', 'CH2O', 'FAF']\n",
    "for col in relevant_cols:\n",
    "    plt.figure(figsize=(10, 6))\n",
    "    sns.boxplot(x=df[col])\n",
    "    plt.title(f'Boxplot of {col}')\n",
    "    plt.show()"
   ]
  },
  {
   "cell_type": "markdown",
   "metadata": {},
   "source": [
    "Os boxplots atualizados para as variáveis Weight, Height, CH2O (consumo de água) e FAF (frequência de atividade física) após a remoção dos outliers mostram uma melhoria considerável na distribuição desses dados:\n",
    "\n",
    "Weight (Peso):\n",
    "\n",
    "A distribuição parece mais uniforme e centrada, com menos valores extremos, o que pode melhorar a qualidade das análises relacionadas ao peso.\n",
    "Height (Altura):\n",
    "\n",
    "Similar ao peso, a altura mostra uma distribuição mais compacta e controlada, reduzindo a influência de valores anormalmente baixos ou altos que poderiam distorcer análises relacionadas à estatura.\n",
    "CH2O (Consumo de Água):\n",
    "\n",
    "A distribuição agora parece mais equilibrada com extremos menos pronunciados, sugerindo que os valores mais atípicos foram removidos, o que é crucial para análises que consideram hidratação e saúde geral.\n",
    "FAF (Frequência de Atividade Física):\n",
    "\n",
    "A remoção de outliers também ajudou a normalizar a distribuição desta variável, limitando valores que eram inusualmente altos ou baixos, proporcionando uma visão mais realista da atividade física dos indivíduos.\n",
    "Conclusão:\n",
    "A remoção dos outliers parece ter melhorado a confiabilidade dos dados ao minimizar a influência de valores atípicos que poderiam levar a conclusões errôneas. Isso é particularmente importante em um estudo sobre obesidade, onde medidas precisas de variáveis físicas e de comportamento são fundamentais. Agora, os dados parecem mais representativos da tendência geral da população estudada, permitindo uma análise mais precisa e confiável."
   ]
  }
 ],
 "metadata": {
  "kernelspec": {
   "display_name": "Python 3",
   "language": "python",
   "name": "python3"
  },
  "language_info": {
   "codemirror_mode": {
    "name": "ipython",
    "version": 3
   },
   "file_extension": ".py",
   "mimetype": "text/x-python",
   "name": "python",
   "nbconvert_exporter": "python",
   "pygments_lexer": "ipython3",
   "version": "3.9.19"
  }
 },
 "nbformat": 4,
 "nbformat_minor": 2
}
